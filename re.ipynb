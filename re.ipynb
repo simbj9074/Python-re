{
 "cells": [
  {
   "cell_type": "markdown",
   "id": "10f22fc7",
   "metadata": {},
   "source": [
    "### 정규표현식 (regular expression) re"
   ]
  },
  {
   "cell_type": "markdown",
   "id": "968d9f26",
   "metadata": {},
   "source": [
    "#### Meta문자\n",
    "- ^   : 문자열 시작 패턴 : ^abc  : abc로 시작하는 문자열\n",
    "- $   : 문자열 끝 패턴   : abc&  : abc로 끝나는 문자열\n",
    "- \\*   : 0개 이상         : \\d*   : 숫자 0개 이상\n",
    "- \\+   : 1개 이상         : \\d+   : 숫자 1개 이상\n",
    "- .   : 문자 1개         : .     : 아무 문자 1개\n",
    "- .*  : 문자 1개 이상    : .*    : 아무 문자 1개 이상\n",
    "- ?   : 문자 1개 or 0개  : a?    : a 1개 or 0개\n",
    "- {n} : 문자 n개         : \\d{3} : 숫자 3개\n",
    "- {a,b} : 문자 a개 이상, b개 이하 : \\d{1,5} : 숫자 1개 이상 5개 이하\n",
    "- \\   : 특수 문자 표시   : \\*\\?  : *?\n",
    "- []  : 리스트 중 일치   : [A-Z]{2} : A~Z 중 2개\n",
    "- [^] : 리스트 제외      : [^TAB] : 탭을 제외한 모든 글자\n",
    "- |   : 또는 (or)        : A|B   : A와 B\n"
   ]
  },
  {
   "cell_type": "markdown",
   "id": "ba29e613",
   "metadata": {},
   "source": [
    "#### 특수문자\n",
    "- \\d : 숫자 1개\n",
    "- \\D : 숫자 이외 문자 1개\n",
    "- \\s : 공백이나 탭 1개\n",
    "- \\S : 공백이나 탭 이외 문자 1개\n",
    "- \\w : 알파벳 1개\n",
    "- \\W : 알파벳 이외의 문자 1개"
   ]
  },
  {
   "cell_type": "markdown",
   "id": "497ac29b",
   "metadata": {},
   "source": [
    "#### 함수\n",
    "- math() : 문자열의 처음부터 정규식과 매치되는지 조사\n",
    "- search() : 문자열 전체를 검색하여 정규식과 매치되는지 조사\n",
    "- findall() : 정규식과 매치되는 모든 문자열을 리스트로 반환\n",
    "- finditer() : 정규식과 매치되는 모든 문자열을 반복 가능한 객채로 반환"
   ]
  },
  {
   "cell_type": "code",
   "execution_count": 2,
   "id": "f80e9e79",
   "metadata": {},
   "outputs": [],
   "source": [
    "import re"
   ]
  },
  {
   "cell_type": "code",
   "execution_count": 12,
   "id": "c2373c3b",
   "metadata": {},
   "outputs": [],
   "source": [
    "p = re.compile(\"[a-z]+\")"
   ]
  },
  {
   "cell_type": "code",
   "execution_count": 8,
   "id": "9cec1846",
   "metadata": {},
   "outputs": [
    {
     "name": "stdout",
     "output_type": "stream",
     "text": [
      "<re.Match object; span=(0, 6), match='python'>\n"
     ]
    }
   ],
   "source": [
    "m = p.match(\"python\")\n",
    "print(m)"
   ]
  },
  {
   "cell_type": "code",
   "execution_count": 13,
   "id": "8553cbba",
   "metadata": {},
   "outputs": [
    {
     "name": "stdout",
     "output_type": "stream",
     "text": [
      "None\n"
     ]
    }
   ],
   "source": [
    "m = p.match(\"3 python\")\n",
    "print(m)"
   ]
  },
  {
   "cell_type": "code",
   "execution_count": 14,
   "id": "d1081ed4",
   "metadata": {},
   "outputs": [
    {
     "name": "stdout",
     "output_type": "stream",
     "text": [
      "<re.Match object; span=(0, 6), match='python'>\n"
     ]
    }
   ],
   "source": [
    "m = p.search(\"python\")\n",
    "print(m)"
   ]
  },
  {
   "cell_type": "code",
   "execution_count": 15,
   "id": "b8c47559",
   "metadata": {},
   "outputs": [
    {
     "name": "stdout",
     "output_type": "stream",
     "text": [
      "['life', 'is', 'too', 'short']\n"
     ]
    }
   ],
   "source": [
    "result = p.findall(\"life is too short\")\n",
    "print(result)"
   ]
  },
  {
   "cell_type": "markdown",
   "id": "b481697d",
   "metadata": {},
   "source": [
    "#### 컴파일옵션 ex) re.compile(\"a.b\", re.DOTALL), or re.compile(\"a.b\", re.S)\n",
    "- DOTALL(S) - . 이 줄바꿈 문자를 포함하여 모든 문자와 매치할 수 있도록 한다.\n",
    "- IGNORECASE(I) - 대소문자에 관계없이 매치할 수 있도록 한다.\n",
    "- MULTILINE(M) - 여러줄과 매치할 수 있도록 한다. (^, $ 메타문자의 사용과 관계가 있는 옵션이다)\n",
    "- VERBOSE(X) - verbose 모드를 사용할 수 있도록 한다. (정규식을 보기 편하게 만들수 있고 주석등을 사용할 수 있게된다.)"
   ]
  },
  {
   "cell_type": "code",
   "execution_count": 21,
   "id": "3aa16ebb",
   "metadata": {},
   "outputs": [
    {
     "name": "stdout",
     "output_type": "stream",
     "text": [
      "['python one', 'python two', 'python three']\n"
     ]
    }
   ],
   "source": [
    "p = re.compile(\"^python\\s\\w+\",re.M)\n",
    "\n",
    "data = \"\"\"python one\n",
    "life is too short\n",
    "python two\n",
    "you need python\n",
    "python three\"\"\"\n",
    "\n",
    "print(p.findall(data))"
   ]
  },
  {
   "cell_type": "code",
   "execution_count": 23,
   "id": "a7790b85",
   "metadata": {},
   "outputs": [],
   "source": [
    "# 같은 표현 다른 방식\n",
    "p = re.compile('\\\\\\\\section')\n",
    "p = re.compile(r'\\\\section')"
   ]
  },
  {
   "cell_type": "code",
   "execution_count": 28,
   "id": "5f7de97d",
   "metadata": {},
   "outputs": [
    {
     "name": "stdout",
     "output_type": "stream",
     "text": [
      "None\n"
     ]
    }
   ],
   "source": [
    "print(re.search('^Life', 'My Life'))"
   ]
  },
  {
   "cell_type": "markdown",
   "id": "a045238d",
   "metadata": {},
   "source": [
    "#### 특수문자\n",
    "- \\A : 문자열 처음과 매치\n",
    "- \\Z : 문자열 끝과 매치\n",
    "- \\b : 단어 구분자\n",
    "- \\B : \\b와 반대"
   ]
  },
  {
   "cell_type": "code",
   "execution_count": 35,
   "id": "2b30cc79",
   "metadata": {},
   "outputs": [
    {
     "name": "stdout",
     "output_type": "stream",
     "text": [
      "<re.Match object; span=(3, 8), match='class'>\n",
      "None\n",
      "None\n"
     ]
    }
   ],
   "source": [
    "p = re.compile(r'\\bclass\\b') # class로 구분된 단어만 매치\n",
    "print(p.search('no class at all'))\n",
    "print(p.search('no cclass at all'))\n",
    "print(p.search('no classs at all'))"
   ]
  },
  {
   "cell_type": "code",
   "execution_count": 34,
   "id": "c980485a",
   "metadata": {},
   "outputs": [
    {
     "name": "stdout",
     "output_type": "stream",
     "text": [
      "None\n",
      "None\n",
      "None\n",
      "<re.Match object; span=(5, 10), match='class'>\n"
     ]
    }
   ],
   "source": [
    "p = re.compile(r'\\Bclass\\B') # class로 구분되지 않는 단어만 매치\n",
    "print(p.search('no class at all'))\n",
    "print(p.search('no classsss at all'))\n",
    "print(p.search('no ccclass at all'))\n",
    "print(p.search('no ccclasssss at all'))"
   ]
  },
  {
   "cell_type": "markdown",
   "id": "94456cc9",
   "metadata": {},
   "source": [
    "### 그루핑 ()"
   ]
  },
  {
   "cell_type": "code",
   "execution_count": 37,
   "id": "179d252c",
   "metadata": {},
   "outputs": [
    {
     "name": "stdout",
     "output_type": "stream",
     "text": [
      "<re.Match object; span=(0, 9), match='ABCABCABC'>\n"
     ]
    }
   ],
   "source": [
    "p = re.compile(\"(ABC)+\")\n",
    "m = p.search(\"ABCABCABC OK?\")\n",
    "print(m)"
   ]
  },
  {
   "cell_type": "code",
   "execution_count": 38,
   "id": "f711c19a",
   "metadata": {},
   "outputs": [
    {
     "name": "stdout",
     "output_type": "stream",
     "text": [
      "<re.Match object; span=(0, 18), match='park 010-1234-1234'>\n"
     ]
    }
   ],
   "source": [
    "p = re.compile(r\"\\w+\\s+\\d+[-]\\d+[-]\\d+\")\n",
    "m = p.search(\"park 010-1234-1234\")\n",
    "print(m)"
   ]
  },
  {
   "cell_type": "code",
   "execution_count": 42,
   "id": "752f2704",
   "metadata": {},
   "outputs": [
    {
     "name": "stdout",
     "output_type": "stream",
     "text": [
      "park , 010-1234-1234 , 010\n"
     ]
    }
   ],
   "source": [
    "p = re.compile(r\"(\\w+)\\s+((\\d+)[-]\\d+[-]\\d+)\") # park만 뽑기위해 그루핑 (이름)-(전화번호)\n",
    "m = p.search(\"park 010-1234-1234\")\n",
    "print(m.group(1),\",\",m.group(2),\",\",m.group(3))"
   ]
  },
  {
   "cell_type": "code",
   "execution_count": 56,
   "id": "5bace0fd",
   "metadata": {},
   "outputs": [
    {
     "name": "stdout",
     "output_type": "stream",
     "text": [
      "the the\n",
      "lee lee\n"
     ]
    }
   ],
   "source": [
    "p = re.compile(r'(\\b\\w+)\\s+\\1') # 재참조 메타 문자 \\1 : 그룹중 첫 번째 그룹 \n",
    "# (\\b\\w+)\\s+\\1은 (그룹) + \" \" + 그룹과 동일한 단어 ,즉 (\\b\\w+)\\s+(\\b\\w+) 이랑 같다.\n",
    "print(p.search('Paris in the the spring').group())\n",
    "print(p.search('Paris lee lee spring').group())"
   ]
  },
  {
   "cell_type": "code",
   "execution_count": 63,
   "id": "5aa2a55c",
   "metadata": {},
   "outputs": [
    {
     "name": "stdout",
     "output_type": "stream",
     "text": [
      "park 010-1234-1234 park 010-1234-1234\n"
     ]
    }
   ],
   "source": [
    "## 그룹명으로 관리\n",
    "p = re.compile(r\"(?P<name>\\w+)\\s+(?P<phone>(\\d+)[-]\\d+[-]\\d+)\") ## ?P<그룹명>\n",
    "m = p.search(\"park 010-1234-1234\")\n",
    "print(m.group(1),m.group(2), m.group(\"name\"),m.group(\"phone\"))"
   ]
  },
  {
   "cell_type": "code",
   "execution_count": 66,
   "id": "5b5f6c6a",
   "metadata": {},
   "outputs": [
    {
     "name": "stdout",
     "output_type": "stream",
     "text": [
      "http\n"
     ]
    }
   ],
   "source": [
    "p = re.compile(\".+(?=:)\") # 전방 탐색\n",
    "m = p.search(\"http://google.com\")\n",
    "print(m.group())"
   ]
  },
  {
   "cell_type": "code",
   "execution_count": null,
   "id": "af4cd48a",
   "metadata": {},
   "outputs": [],
   "source": [
    "# .*[.](?!bat$).*$ : .bat으로 끝나지 않는 경우만 매치"
   ]
  },
  {
   "cell_type": "code",
   "execution_count": 74,
   "id": "bfde46d4",
   "metadata": {},
   "outputs": [
    {
     "name": "stdout",
     "output_type": "stream",
     "text": [
      "color socks and color shoes\n",
      "color socks and red shoes\n"
     ]
    }
   ],
   "source": [
    "p = re.compile('(blue|white|red)')\n",
    "print(p.sub('color', 'blue socks and red shoes')) #.sub(바꿀 문자열, 대상 문자열, count=바꿀 횟수) \n",
    "print(p.sub('color', 'blue socks and red shoes', count=1))"
   ]
  },
  {
   "cell_type": "code",
   "execution_count": 75,
   "id": "bfad4652",
   "metadata": {},
   "outputs": [
    {
     "name": "stdout",
     "output_type": "stream",
     "text": [
      "010-1234-1234 park\n"
     ]
    }
   ],
   "source": [
    "p = re.compile(r\"(?P<name>\\w+)\\s+(?P<phone>(\\d+)[-]\\d+[-]\\d+)\")\n",
    "print(p.sub(\"\\g<2> \\g<1>\", \"park 010-1234-1234\"))"
   ]
  },
  {
   "cell_type": "code",
   "execution_count": 80,
   "id": "f0374aaa",
   "metadata": {},
   "outputs": [
    {
     "name": "stdout",
     "output_type": "stream",
     "text": [
      "(0, 32)\n",
      "<html><head><title>Title</title>\n",
      "<html>\n"
     ]
    }
   ],
   "source": [
    "s = '<html><head><title>Title</title>'\n",
    "print(re.match('<.*>', s).span())\n",
    "print(re.match('<.*>', s).group())\n",
    "print(re.match('<.*?>', s).group()) # ?을 사용하여 최소한의 반복을 수행"
   ]
  },
  {
   "cell_type": "code",
   "execution_count": 87,
   "id": "48c14c24",
   "metadata": {
    "scrolled": true
   },
   "outputs": [
    {
     "name": "stdout",
     "output_type": "stream",
     "text": [
      "(0, '4')\n",
      "(1, '5')\n",
      "(2, '4')\n",
      "(3, '6')\n",
      "(4, '7')\n",
      "(5, '9')\n",
      "(6, '3')\n"
     ]
    }
   ],
   "source": [
    "data = \"4546793\"\n",
    "for i in enumerate(data):\n",
    "    print(i)"
   ]
  },
  {
   "cell_type": "code",
   "execution_count": 97,
   "id": "d86c9a4c",
   "metadata": {},
   "outputs": [],
   "source": [
    "data = \"\"\"\n",
    "park 010-9999-9988\n",
    "kim 010-9909-7789\n",
    "lee 010-8789-7768\n",
    "\"\"\""
   ]
  },
  {
   "cell_type": "code",
   "execution_count": 98,
   "id": "3d17cf14",
   "metadata": {},
   "outputs": [],
   "source": [
    "p = re.compile(\"(\\d{3}[-]\\d{4})[-]\\d{4}\")"
   ]
  },
  {
   "cell_type": "code",
   "execution_count": 100,
   "id": "a90a116b",
   "metadata": {},
   "outputs": [
    {
     "name": "stdout",
     "output_type": "stream",
     "text": [
      "\n",
      "park 010-9999-####\n",
      "kim 010-9909-####\n",
      "lee 010-8789-####\n",
      "\n"
     ]
    }
   ],
   "source": [
    "print(p.sub(\"\\g<1>-####\",data))"
   ]
  },
  {
   "cell_type": "code",
   "execution_count": 107,
   "id": "cf4651f1",
   "metadata": {},
   "outputs": [],
   "source": [
    "p1 = re.compile(\".*[@].*[.](?=com$|net$).*$\")"
   ]
  },
  {
   "cell_type": "code",
   "execution_count": 108,
   "id": "78b22c26",
   "metadata": {},
   "outputs": [
    {
     "name": "stdout",
     "output_type": "stream",
     "text": [
      "<re.Match object; span=(0, 16), match='pahkey@gmail.com'>\n",
      "<re.Match object; span=(0, 12), match='kim@daum.net'>\n",
      "None\n"
     ]
    }
   ],
   "source": [
    "print(p1.match(\"pahkey@gmail.com\"))\n",
    "print(p1.match(\"kim@daum.net\"))\n",
    "print(p1.match(\"lee@myhome.co.kr\"))"
   ]
  },
  {
   "cell_type": "code",
   "execution_count": null,
   "id": "1e60e8d2",
   "metadata": {},
   "outputs": [],
   "source": []
  }
 ],
 "metadata": {
  "kernelspec": {
   "display_name": "Python 3 (ipykernel)",
   "language": "python",
   "name": "python3"
  },
  "language_info": {
   "codemirror_mode": {
    "name": "ipython",
    "version": 3
   },
   "file_extension": ".py",
   "mimetype": "text/x-python",
   "name": "python",
   "nbconvert_exporter": "python",
   "pygments_lexer": "ipython3",
   "version": "3.8.12"
  }
 },
 "nbformat": 4,
 "nbformat_minor": 5
}
